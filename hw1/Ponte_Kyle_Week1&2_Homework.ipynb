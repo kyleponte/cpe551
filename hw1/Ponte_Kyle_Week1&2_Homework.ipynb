{
 "cells": [
  {
   "cell_type": "markdown",
   "id": "ef4b8ee1",
   "metadata": {},
   "source": [
    "#### Name        : Kyle Ponte\n",
    "#### Date        : 9/11/25\n",
    "#### Description : Week 1&2 Homework\n",
    "#### Pledge      : I pledge my honor that I have abided by the Stevens Honor System\n",
    "\n"
   ]
  },
  {
   "cell_type": "markdown",
   "id": "e854744c",
   "metadata": {},
   "source": [
    "### Python Core Object Types."
   ]
  },
  {
   "cell_type": "code",
   "execution_count": 1,
   "id": "9c1b8a86-5bda-4f7d-a742-6a8071b132cb",
   "metadata": {},
   "outputs": [
    {
     "name": "stdout",
     "output_type": "stream",
     "text": [
      "1024 341.3333333333333\n"
     ]
    },
    {
     "data": {
      "text/plain": [
       "(1024, 341.3333333333333)"
      ]
     },
     "execution_count": 1,
     "metadata": {},
     "output_type": "execute_result"
    }
   ],
   "source": [
    "\n",
    "def number():\n",
    "    \"\"\"\n",
    "    This is to review numbers and basic operations.\n",
    "    \"\"\"\n",
    "    # Write the value 4 to the power of 5 and assign it to variable x.\n",
    "    x = pow(4, 5)\n",
    "    \n",
    "    # Write the value x divided by 3 and assign it to variable y.\n",
    "    y = x / 3\n",
    "\n",
    "    # Print x, y\n",
    "    print(x, y)\n",
    "\n",
    "    # Return x and y\n",
    "    return x, y\n",
    "    \n",
    "# Call the function\n",
    "number()"
   ]
  },
  {
   "cell_type": "code",
   "execution_count": 3,
   "id": "6a644f39-bf37-4815-8e5c-737109675790",
   "metadata": {},
   "outputs": [
    {
     "name": "stdout",
     "output_type": "stream",
     "text": [
      "S\n",
      "t\n",
      "e\n",
      "v\n",
      "e\n",
      "n\n",
      "s\n",
      "Variable good: Stevens is good\n"
     ]
    },
    {
     "data": {
      "text/plain": [
       "('Stevens',\n",
       " 'StevensStevensStevensStevensStevensStevensStevens',\n",
       " 49,\n",
       " 'Stevens is great',\n",
       " 'Stevens is good')"
      ]
     },
     "execution_count": 3,
     "metadata": {},
     "output_type": "execute_result"
    }
   ],
   "source": [
    "def strings():\n",
    "    \"\"\"\n",
    "    This is to review numbers and strings and basic operations.\n",
    "    \"\"\"\n",
    "    # Assign the string \"Stevens\" to a variable stevens.\n",
    "    stevens = 'Stevens'\n",
    "\n",
    "    # Iterate stevens and print each item\n",
    "    for c in stevens:\n",
    "        print(c)\n",
    "    \n",
    "    # Repeat variable stevens 7 times and assign it to variable stevens_7.\n",
    "    stevens_7 = stevens * 7\n",
    "    \n",
    "    # Determine the length of stevens_7\n",
    "    length = len(stevens_7)\n",
    "\n",
    "    # Concatenate variable stevens with string \" is great\" and assign it to variable great.\n",
    "    great = stevens + ' is great'\n",
    "\n",
    "    # Replace \"great\" with \"good\" in variable great and assign it to a new variable good.\n",
    "    good = great[:11] + 'good'\n",
    "\n",
    "    # Using the f-string to print variabel good with the message of \"Variable good:\" \n",
    "    print(f'Variable good: {good}')\n",
    "\n",
    "    # Return stevens, stevens_7, length, great, and good\n",
    "    return stevens, stevens_7, length, great, good\n",
    "    \n",
    "# Call the function    \n",
    "strings()"
   ]
  },
  {
   "cell_type": "code",
   "execution_count": 6,
   "id": "86d0b74b",
   "metadata": {},
   "outputs": [
    {
     "name": "stdout",
     "output_type": "stream",
     "text": [
      "[0, 6] [-6, -2, 0, 0, 2, 4, 6, 10, 12]\n"
     ]
    }
   ],
   "source": [
    "def list_1D():\n",
    "    \"\"\"\n",
    "    This is to review basic operations with lists.\n",
    "    \"\"\"\n",
    "    s = \" hoboken,is,awesome,i,like,it \"\n",
    "    # Using list slicing, remove the whitespace characters on both side and assign it to a new variable hoboken.\n",
    "    hoboken = s.strip()\n",
    "\n",
    "    # Split variable hoboken on a delimiter (comma) into a list of substrings and assign it to a new variable hoboken_list.\n",
    "    hoboken_list = hoboken.split(',')\n",
    "\n",
    "    # Get the first item in the hoboken_list and assign it to a new variable hoboken_first_item.\n",
    "    hoboken_first_item = hoboken_list[0]\n",
    "\n",
    "    l = [2, 3, 4, 1, 5, 6, 9, 10, 15, 12, 13, -2, -6, 0, 0]\n",
    "\n",
    "    # Inplace sort list l (use .sort()).\n",
    "    l.sort()\n",
    "\n",
    "    # Get the 4th to 10th item in sorted list l and assign them to a new list new_l.\n",
    "    new_l = [l[3], l[9]]\n",
    "\n",
    "    # Use list comprehension to remove all the odd numbers in l and assign the new list to c_l\n",
    "    c_l = [n for n in l if n % 2 == 0]\n",
    "\n",
    "    # Print new_l and c_l\n",
    "    print(new_l, c_l)\n",
    "    \n",
    "# Call the function    \n",
    "list_1D()"
   ]
  },
  {
   "cell_type": "code",
   "execution_count": 7,
   "id": "eec2d807",
   "metadata": {},
   "outputs": [
    {
     "name": "stdout",
     "output_type": "stream",
     "text": [
      "[5, 11, 38] 38 12\n"
     ]
    }
   ],
   "source": [
    "def list_2D():\n",
    "    \"\"\"\n",
    "    This is to review operations with 2D lists.\n",
    "    \"\"\"\n",
    "    # Create a 3 x 3 matrix A as a nested list such that\n",
    "    #   first row is [1, 4, 5]\n",
    "    #   second row is [6, 10, 11]\n",
    "    #   third row is [12, 17, 38]\n",
    "    A = [[1, 4, 5],\n",
    "         [6, 10, 11],\n",
    "         [12, 17, 38]]\n",
    "\n",
    "    # Collect the items in the last column of matrix A using list comprehension and assign it to a new variable last_column.\n",
    "    last_column = [row[2] for row in A]\n",
    "\n",
    "    # Using indexing, get the item at the last row and last column of A and assign this item to a new variable a.\n",
    "    a = A[2][2]\n",
    "\n",
    "    # Using indexing, get the item at row 2 and column 1 of A and assign this item to a new variable b.\n",
    "    b = A[2][0]\n",
    "\n",
    "    # Print last_column, a, and b\n",
    "    print(last_column, a, b)\n",
    "    \n",
    "# Call the function\n",
    "list_2D()"
   ]
  },
  {
   "cell_type": "code",
   "execution_count": 9,
   "id": "50883898",
   "metadata": {},
   "outputs": [
    {
     "data": {
      "text/plain": [
       "({'fruit': 'apple', 'quantity': 19, 'color': 'red'}, 'apple')"
      ]
     },
     "execution_count": 9,
     "metadata": {},
     "output_type": "execute_result"
    }
   ],
   "source": [
    "def dictionary():\n",
    "    \"\"\"\n",
    "    This is to review basic operations with dictionaries.\n",
    "    \"\"\"\n",
    "    # Create a dictionary named fruit_dict that maps:\n",
    "    #   \"fruit\" => \"apple\"\n",
    "    #   \"quantity\" => 18\n",
    "    #   \"color\" => \"red\"\n",
    "    fruit_dict = {\n",
    "        'fruit': 'apple', \n",
    "        'quantity': 18, \n",
    "        'color': 'red'\n",
    "        }\n",
    "    \n",
    "    # Get the item in dictionary fruit_dict that the key \"fruit\" maps to. Assign this item to the variable f.\n",
    "    f = fruit_dict['fruit']\n",
    "\n",
    "    # Increase the value that key \"quantity\" maps to by 1.\n",
    "    fruit_dict['quantity'] += 1\n",
    "\n",
    "    # Return fruit_dict and f\n",
    "    return fruit_dict, f\n",
    "    \n",
    "# Call the function    \n",
    "dictionary()"
   ]
  },
  {
   "cell_type": "code",
   "execution_count": null,
   "id": "7e584477",
   "metadata": {},
   "outputs": [
    {
     "data": {
      "text/plain": [
       "({'name': {'first_name': 'Grace', 'last_name': 'Hopper'},\n",
       "  'jobs': ['scientist', 'engineer', 'programmer'],\n",
       "  'age': 85},\n",
       " 'Hopper',\n",
       " 'programmer')"
      ]
     },
     "execution_count": 12,
     "metadata": {},
     "output_type": "execute_result"
    }
   ],
   "source": [
    "def dictionary_nested():\n",
    "    \"\"\"\n",
    "    This is to review nested dictionaries.\n",
    "    \"\"\"\n",
    "    # Create a nested dictionary Grace where:\n",
    "    #   \"name\" => {\"first_name\" => \"Grace\", \"last_name\" => \"Hopper\"} (a dictionary)\n",
    "    #   \"jobs\" => [\"scientist\", \"engineer\"] (a list)\n",
    "    #   \"age\" => 85\n",
    "    Grace = {\n",
    "        'name': {\n",
    "            'first_name': 'Grace',\n",
    "            'last_name': 'Hopper'\n",
    "        },\n",
    "        'jobs': ['scientist', 'engineer'],\n",
    "        'age': 85\n",
    "    }\n",
    "    \n",
    "    # Get the value of key \"last_name\" from the subdictionary of key \"name\" in dictionary Grace.\n",
    "    Grace['name']['last_name']\n",
    "\n",
    "    # Add \"programmer\" to the list that key \"jobs\" maps to.\n",
    "    Grace['jobs'].append('programmer')\n",
    "\n",
    "    # Get the third item in the list that key \"job\" maps to. (This is the item you recently added).\n",
    "    job = Grace.get('jobs')[-1]\n",
    "\n",
    "    # Return Grace, last_name, and job\n",
    "    return Grace, Grace['name']['last_name'], job\n",
    "    \n",
    "# Call the function    \n",
    "dictionary_nested()"
   ]
  },
  {
   "cell_type": "code",
   "execution_count": 17,
   "id": "a5bebe23",
   "metadata": {},
   "outputs": [
    {
     "name": "stdout",
     "output_type": "stream",
     "text": [
      "1\n",
      "2\n",
      "5\n",
      "8\n",
      "2\n",
      "(1, 2, 5, 8, 2) 18 (2, 8, 2) (2, 8)\n"
     ]
    }
   ],
   "source": [
    "def my_tuple():\n",
    "    \"\"\"\n",
    "    This is to review basic operations with tuples.\n",
    "    \"\"\"\n",
    " \n",
    "    t = (1, 2, 5, 8, 2)\n",
    "\n",
    "    # calculate the sum of all items, and name the result as my_sum\n",
    "    my_sum = sum(t)\n",
    "\n",
    "    # Iterate all elements and print each item\n",
    "    for e in t:\n",
    "        print(e)\n",
    "\n",
    "    # Use tuple comprehension to generate a new tuple that includes only even numbers, name the tuple as n_t\n",
    "    n_t = tuple(n for n in t if n % 2 == 0)\n",
    "\n",
    "    # Get the 3rd to 5th items in sorted t, and assign them to s_t\n",
    "    t2 = sorted(t)\n",
    "    s_t = (t2[2],) + (t2[4],)\n",
    "    \n",
    "    # Repeat s_t five times and assign them to r_t\n",
    "    r_t = s_t * 5\n",
    "\n",
    "    # Print t, my_sum, n_t, and s_t\n",
    "    print(t, my_sum, n_t, s_t)\n",
    "\n",
    "    # Delete t, my_sum, n_t, s_t, and r_t\n",
    "    del t, my_sum, n_t, s_t, r_t\n",
    "    \n",
    "# Call the function\n",
    "my_tuple()"
   ]
  },
  {
   "cell_type": "markdown",
   "id": "9739b1b8",
   "metadata": {},
   "source": [
    "**Reminder:** Restart and run all cells before submitting to ensure the notebook executes from start to finish without errors and produces the expected outputs.\n"
   ]
  },
  {
   "cell_type": "code",
   "execution_count": null,
   "id": "538f9dd6-99e4-4b4c-9d4b-cb422251c644",
   "metadata": {},
   "outputs": [],
   "source": []
  }
 ],
 "metadata": {
  "kernelspec": {
   "display_name": "Python 3",
   "language": "python",
   "name": "python3"
  },
  "language_info": {
   "codemirror_mode": {
    "name": "ipython",
    "version": 3
   },
   "file_extension": ".py",
   "mimetype": "text/x-python",
   "name": "python",
   "nbconvert_exporter": "python",
   "pygments_lexer": "ipython3",
   "version": "3.13.7"
  }
 },
 "nbformat": 4,
 "nbformat_minor": 5
}
