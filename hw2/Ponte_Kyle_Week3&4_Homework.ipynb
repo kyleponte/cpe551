{
 "cells": [
  {
   "cell_type": "markdown",
   "id": "9b09069d",
   "metadata": {},
   "source": [
    "#### Name        : Kyle Ponte\n",
    "#### Date        : 9/27/25\n",
    "#### Description : Week 3&4 Homework\n",
    "#### Pledge      : I pledge my honor that I have abided by the Stevens Honor System\n",
    "\n"
   ]
  },
  {
   "cell_type": "code",
   "execution_count": 34,
   "id": "93ce551f",
   "metadata": {},
   "outputs": [
    {
     "name": "stdout",
     "output_type": "stream",
     "text": [
      "16.3935\n",
      "3.5999999999999996\n",
      "11.26\n",
      "25.0\n"
     ]
    }
   ],
   "source": [
    "def tip_calc(bill, party):\n",
    "    if party < 6:\n",
    "        tip = bill * 0.15\n",
    "    elif party < 8:\n",
    "        tip = bill * 0.18\n",
    "    elif party < 11:\n",
    "        tip = bill * 0.20\n",
    "    else:\n",
    "        tip = bill * 0.25\n",
    "    print(tip)\n",
    "\n",
    "tip_calc(109.29, 3)\n",
    "tip_calc(20, 6)\n",
    "tip_calc(56.3, 8)\n",
    "tip_calc(100, 11)"
   ]
  },
  {
   "cell_type": "code",
   "execution_count": 35,
   "id": "e121294d",
   "metadata": {},
   "outputs": [
    {
     "name": "stdout",
     "output_type": "stream",
     "text": [
      "[1, 5, 3, 0, 0, 0, 0, 0, 0, 0]\n",
      "[2, 8, 99, 33, 3, 5, 6, 9, 10, 3]\n"
     ]
    }
   ],
   "source": [
    "def make_size10(x):\n",
    "    if len(x) >= 10:\n",
    "        print(x[:10])\n",
    "    else:\n",
    "        while len(x) < 10:\n",
    "            x.append(0)\n",
    "        print(x)\n",
    "    \n",
    "small_list = [1,5,3]\n",
    "large_list = [2, 8, 99, 33, 3, 5, 6, 9, 10, 3, 5]\n",
    "\n",
    "make_size10(small_list)\n",
    "make_size10(large_list)"
   ]
  },
  {
   "cell_type": "code",
   "execution_count": 37,
   "id": "59e83b35",
   "metadata": {},
   "outputs": [
    {
     "name": "stdout",
     "output_type": "stream",
     "text": [
      "8\n",
      "4\n",
      "12\n",
      "3.0\n",
      "36\n",
      "Can't divide by 0\n"
     ]
    }
   ],
   "source": [
    "def my_operations(a, b, operation):\n",
    "    if operation == 'plus':\n",
    "        print(a + b)\n",
    "    elif operation == 'minus':\n",
    "        print(a - b)\n",
    "    elif operation == 'mult':\n",
    "        print(a * b)\n",
    "    elif operation == 'div':\n",
    "        if b == 0:\n",
    "            print(\"Can't divide by 0\")\n",
    "        else:\n",
    "            print(a / b)\n",
    "    elif operation == 'pow':\n",
    "        print(a ** b)\n",
    "    else:\n",
    "        print('Invalid operation')\n",
    "\n",
    "my_operations(6, 2, 'plus')\n",
    "my_operations(6, 2, 'minus')\n",
    "my_operations(6, 2, 'mult')\n",
    "my_operations(6, 2, 'div')\n",
    "my_operations(6, 2, 'pow')\n",
    "my_operations(6, 0, 'div')"
   ]
  }
 ],
 "metadata": {
  "kernelspec": {
   "display_name": "Python 3",
   "language": "python",
   "name": "python3"
  },
  "language_info": {
   "codemirror_mode": {
    "name": "ipython",
    "version": 3
   },
   "file_extension": ".py",
   "mimetype": "text/x-python",
   "name": "python",
   "nbconvert_exporter": "python",
   "pygments_lexer": "ipython3",
   "version": "3.13.7"
  }
 },
 "nbformat": 4,
 "nbformat_minor": 5
}
