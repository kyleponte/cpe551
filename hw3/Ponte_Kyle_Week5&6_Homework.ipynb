{
 "cells": [
  {
   "cell_type": "markdown",
   "id": "ccd3db63",
   "metadata": {},
   "source": [
    "#### Name        : Kyle Ponte\n",
    "#### Date        : 10/11/25\n",
    "#### Description : Week 5&6 Homework\n",
    "#### Pledge      : I pledge my honor that I have abided by the Stevens Honor System\n",
    "\n"
   ]
  },
  {
   "cell_type": "code",
   "execution_count": 1,
   "id": "e53d3d89",
   "metadata": {},
   "outputs": [
    {
     "data": {
      "text/plain": [
       "13"
      ]
     },
     "execution_count": 1,
     "metadata": {},
     "output_type": "execute_result"
    }
   ],
   "source": [
    "def my_sum(lst, index = 0):\n",
    "\n",
    "    if index == len(lst):\n",
    "        return 0\n",
    "\n",
    "    return lst[index] + my_sum(lst, index + 1)\n",
    "\n",
    "my_sum([1, 9, 3])"
   ]
  },
  {
   "cell_type": "code",
   "execution_count": 3,
   "id": "f4bb1ac9",
   "metadata": {},
   "outputs": [
    {
     "name": "stdout",
     "output_type": "stream",
     "text": [
      "The difference between x and y is: -2\n"
     ]
    }
   ],
   "source": [
    "x, y = map(int, input(\"Please enter two numbers separated by a comma: \").split(','))\n",
    "\n",
    "subtract = lambda x, y : x - y\n",
    "\n",
    "print(f'The difference between x and y is: {subtract(x, y)}')"
   ]
  },
  {
   "cell_type": "code",
   "execution_count": 4,
   "id": "41d5bd4c",
   "metadata": {},
   "outputs": [
    {
     "name": "stdout",
     "output_type": "stream",
     "text": [
      "Hi, my name is Kyle and I am 21.0 years old.\n"
     ]
    }
   ],
   "source": [
    "def greeting(name, age):\n",
    "    return f'Hi, my name is {name} and I am {age} years old.'\n",
    "\n",
    "name = input('Please enter your name: ')\n",
    "age = float(input('Please enter your age: '))\n",
    "print(greeting(name, age))"
   ]
  },
  {
   "cell_type": "code",
   "execution_count": 5,
   "id": "26e9ed42",
   "metadata": {},
   "outputs": [
    {
     "name": "stdout",
     "output_type": "stream",
     "text": [
      "16.0\n"
     ]
    }
   ],
   "source": [
    "def my_triangle(b, h):\n",
    "    return 0.5 * b * h\n",
    "\n",
    "print(my_triangle(4, 8))"
   ]
  },
  {
   "cell_type": "code",
   "execution_count": 6,
   "id": "176a5956",
   "metadata": {},
   "outputs": [
    {
     "name": "stdout",
     "output_type": "stream",
     "text": [
      "4\n",
      "9\n"
     ]
    }
   ],
   "source": [
    "def my_ackermann(m, n):\n",
    "    if m == 0:\n",
    "        return n + 1\n",
    "    elif m > 0 and n == 0:\n",
    "        return my_ackermann(m - 1, 1)\n",
    "    else:\n",
    "        return my_ackermann(m - 1, my_ackermann(m, n - 1))\n",
    "\n",
    "print(my_ackermann(1, 2))\n",
    "print(my_ackermann(2, 3))"
   ]
  }
 ],
 "metadata": {
  "kernelspec": {
   "display_name": "Python 3",
   "language": "python",
   "name": "python3"
  },
  "language_info": {
   "codemirror_mode": {
    "name": "ipython",
    "version": 3
   },
   "file_extension": ".py",
   "mimetype": "text/x-python",
   "name": "python",
   "nbconvert_exporter": "python",
   "pygments_lexer": "ipython3",
   "version": "3.13.7"
  }
 },
 "nbformat": 4,
 "nbformat_minor": 5
}
